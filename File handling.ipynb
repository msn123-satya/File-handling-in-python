{
 "cells": [
  {
   "cell_type": "markdown",
   "id": "dd264fd4-910d-40b8-8824-f4cc4022c920",
   "metadata": {},
   "source": [
    "# File Modes in Python\n",
    "## Read (\"r\")\n",
    "-Opens an existing file for reading.\n",
    "-❌ If the file does not exist, you getFileNotFoundError.\n",
    "-✅ If it exists, you can read it.\n",
    "-🚫 Does not create a new file.\n",
    "\n",
    "## Write (\"w\")\n",
    "-Opens a file for writing.\n",
    "-✅ If the file exists, it truncates (deletes) its content.\n",
    "-✅ If the file does not exist, it creates a new one.\n",
    "-🚫 Be cautious: existing content will be lost\n",
    "\n",
    "## Append (\"a\")\n",
    "-Opens a file for appending.\n",
    "-✅ If the file exists, new data is added to the end.\n",
    "-✅ If the file does not exist, it creates a new one.\n",
    "-🚫 Existing content remains intact\n",
    ".\n",
    "\n",
    "## Read & Write (\"r+\")\n",
    "-Opens an existing file for both reading and writing.\n",
    "-❌ If the file does not exist, you get FileNotFoundError.\n",
    "-✅ If it exists, you can read and write.\n",
    "-🚫 Does not create a new file\n",
    ".\n",
    "\n",
    "## Write & Read (\"w+\")\n",
    "-Opens a file for both writing and reading.\n",
    "-✅ If the file exists, it truncates (deletes) its content.\n",
    "-✅ If the file does not exist, it creates a new one.\n",
    "-🚫 Be cautious: existing content will be lost\n",
    "\n",
    "## Append & Read (\"a+\")\n",
    "-Opens a file for both appending and reading.\n",
    "-✅ If the file exists, new data is added to the end.\n",
    "-✅ If the file does not exist, it creates a new one.\n",
    "-🚫 Existing content remains intact"
   ]
  },
  {
   "cell_type": "markdown",
   "id": "c6c5f35f-4c1b-4405-b6e3-52806d95cb3d",
   "metadata": {},
   "source": [
    " # **Part-A->OS Module**"
   ]
  },
  {
   "cell_type": "markdown",
   "id": "dcd48d09-b979-4e41-bdd5-9fa1e949df08",
   "metadata": {},
   "source": [
    "#### 1. Get current working directory"
   ]
  },
  {
   "cell_type": "code",
   "execution_count": null,
   "id": "0ee34c9f-c047-4fd0-b907-feec2c44c182",
   "metadata": {},
   "outputs": [
    {
     "name": "stdout",
     "output_type": "stream",
     "text": [
      "C:\\Users\\makka\n"
     ]
    }
   ],
   "source": [
    "import os\n",
    "print(os.getcwd())\n"
   ]
  },
  {
   "cell_type": "markdown",
   "id": "00fc19b5-a85c-4444-a0c8-3d6f097f7fa7",
   "metadata": {},
   "source": [
    "#### 2. Change directory"
   ]
  },
  {
   "cell_type": "code",
   "execution_count": 7,
   "id": "ff00bd36-42f1-45d0-a42d-739268ee7b02",
   "metadata": {},
   "outputs": [
    {
     "name": "stdout",
     "output_type": "stream",
     "text": [
      "Now in: D:\\Desktop\n"
     ]
    }
   ],
   "source": [
    "import os\n",
    "os.chdir(\"D:/Desktop\")\n",
    "print(\"Now in:\", os.getcwd())\n"
   ]
  },
  {
   "cell_type": "markdown",
   "id": "375f3a0d-0dde-4300-9441-9ca6cc5184b8",
   "metadata": {},
   "source": [
    "### 3. List files in a directory"
   ]
  },
  {
   "cell_type": "code",
   "execution_count": 10,
   "id": "b2c89c03-7098-48eb-bb50-6bf057cc2fb2",
   "metadata": {},
   "outputs": [
    {
     "name": "stdout",
     "output_type": "stream",
     "text": [
      "['Adobe Express (makka).lnk', 'adobe.lnk', 'ai vedios.lnk', 'AI Voice Generator & Text to Speech   ElevenLabs.lnk', 'Amazon leader ship Principles', 'annayyafiles', 'ApplicantSite (makka).lnk', 'Applications   Amazon.jobs (makka).lnk', 'Aptitude - Number System (makka).lnk', 'Aptitude Questions and Answers (makka).lnk', 'Biographies and must read books', 'Bookface (makka).lnk', 'Books', 'Brave.lnk', 'Browse Music - SoundAudio (makka).lnk', 'canva.lnk', 'Cart - GoDaddy (makka).lnk', 'CHAPTER 1.docx (makka).lnk', 'ChatGPT – Generative AI.lnk', 'ChatGPT-3.5 Tutorial.lnk', 'ChatGPT-4 Tutorial.lnk', 'ChatGPT.lnk', 'Claude.lnk', 'courses online.lnk', 'Cursor.lnk', 'DaVinci Resolve.lnk', 'DeepSeek - Into the Unknown (makka).lnk', 'desktop.ini', 'Dev Community.lnk', 'Developer Roadmaps - roadmap.sh (makka).lnk', 'Devpost (makka).lnk', 'Django Tutorial.lnk', 'Dropbox.lnk', 'dsa practise problems from the book', 'DSA Problems.lnk', 'DSA Tutorial (makka).lnk', 'EdClub (makka).lnk', 'fast-jwt', 'FastAPI.lnk', 'ffmpeg.audio.wasm-master', 'file handling', 'fiverr.lnk', 'Flask – Overview.lnk', 'folder', 'Gagan Pratap Arithmetic Complete Class Notes   PDF   Arithmetic   Elementary Mathematics (makka).lnk', 'Git Tutorial (makka).lnk', 'GitHub', 'github actions.lnk', 'github clone repo projects', 'GitHub.lnk', 'Glassdoor.lnk', 'HackerRank (makka).lnk', 'Handwritten Notes', 'html5', 'important tutorials', 'Indeed.lnk', 'jala-academy-frontend-d7e3bb1900e2', 'javascript', 'JavaScript Tutorial (makka).lnk', 'Job Related', 'langchain.lnk', 'LangSmith (makka).lnk', 'LangSmith.lnk', 'latex editor.lnk', 'library-online.lnk', 'linkedin.lnk', 'logics DSA.lnk', 'lokesh', 'LTI Mind tree  do', 'mail.lnk', 'MongoDBCompass.lnk', 'mongo_fast', 'MSN Chatbot (makka).lnk', 'msndarling', 'msn_tasks', 'Naukari.lnk', 'New Off-Campus Jobs - New Off Campus Jobs LATEST JOBS (makka).lnk', 'Notion.lnk', 'Numpy', 'Online Assessment overview - Amazon SDE Intern Online Assessment (OA) and Interview Prep Course (makka).lnk', 'Online assessment prep for SDE roles (makka).lnk', 'OpenRouter (makka).lnk', 'outlook.lnk', 'paper2', 'Perplexity (makka).lnk', 'Postman.lnk', 'Problems - LeetCode.lnk', 'Python', 'Quick Start – React (makka).lnk', 'Quora.lnk', 'railway.lnk', 'React Native Tutorial (makka).lnk', 'Reddit.lnk', 'render.lnk', 'Shotcut.lnk', 'simplebf', 'Souce codes of packeges', 'Stack Overflow.lnk', 'Sublime Text 3.lnk', 'System Design Interview Questions (Updated 2025) - Exponent (makka).lnk', 'telegram bot', 'Telegram Desktop', 'TeraBox - Free Cloud Storage Up To 1 TB, Send Large Files Online (makka).lnk', 'TeraBox.lnk', 'This PC - Shortcut.lnk', 'Top 50 BPO Interview Questions and Answers (2025) - Tpoint Tech (makka).lnk', 'Top 50 HR Interview Questions and Answers (2025) - Tpoint Tech (makka).lnk', 'unstop.lnk', 'vercel.lnk', 'Visual Studio Code.lnk', 'VLC media player.lnk', 'working projects']\n"
     ]
    }
   ],
   "source": [
    "import os\n",
    "files = os.listdir(\".\")\n",
    "print(files)\n"
   ]
  },
  {
   "cell_type": "markdown",
   "id": "b9f61f27-e8cc-4f8b-adb4-04f08f034849",
   "metadata": {},
   "source": [
    "### 4. Create a new directory"
   ]
  },
  {
   "cell_type": "code",
   "execution_count": 13,
   "id": "c0d5bffd-8d53-4a5c-b132-cd1614532959",
   "metadata": {},
   "outputs": [],
   "source": [
    "import os\n",
    "os.mkdir(\"new_folder\")\n"
   ]
  },
  {
   "cell_type": "markdown",
   "id": "bf29c7be-2724-4ba1-a979-b0ce28c5b926",
   "metadata": {},
   "source": [
    "### 5. Create nested directories"
   ]
  },
  {
   "cell_type": "code",
   "execution_count": 22,
   "id": "27e1c568-d51d-4ba5-aa97-9a74e939d848",
   "metadata": {},
   "outputs": [],
   "source": [
    "import os\n",
    "os.makedirs(\"parent/child/grandchildren\")"
   ]
  },
  {
   "cell_type": "markdown",
   "id": "b135ab76-622f-4789-b758-f48ebbbba20a",
   "metadata": {},
   "source": [
    "### 6. Remove file"
   ]
  },
  {
   "cell_type": "code",
   "execution_count": 27,
   "id": "2cda7aa5-9721-4ea9-af33-23b9cf9559f2",
   "metadata": {},
   "outputs": [
    {
     "ename": "FileNotFoundError",
     "evalue": "[WinError 3] The system cannot find the path specified: 'D:\\\\Desktop\\\\file handling\\\\msn\\\\sample.txt'",
     "output_type": "error",
     "traceback": [
      "\u001b[1;31m---------------------------------------------------------------------------\u001b[0m",
      "\u001b[1;31mFileNotFoundError\u001b[0m                         Traceback (most recent call last)",
      "Cell \u001b[1;32mIn[27], line 3\u001b[0m\n\u001b[0;32m      1\u001b[0m \u001b[38;5;28;01mimport\u001b[39;00m\u001b[38;5;250m \u001b[39m\u001b[38;5;21;01mos\u001b[39;00m\n\u001b[0;32m      2\u001b[0m \u001b[38;5;124m\"\u001b[39m\u001b[38;5;124mwe can remove a file in any directory with the  the path of the file\u001b[39m\u001b[38;5;124m\"\u001b[39m\n\u001b[1;32m----> 3\u001b[0m \u001b[43mos\u001b[49m\u001b[38;5;241;43m.\u001b[39;49m\u001b[43mremove\u001b[49m\u001b[43m(\u001b[49m\u001b[38;5;124;43m\"\u001b[39;49m\u001b[38;5;124;43mD:\u001b[39;49m\u001b[38;5;130;43;01m\\\\\u001b[39;49;00m\u001b[38;5;124;43mDesktop\u001b[39;49m\u001b[38;5;130;43;01m\\\\\u001b[39;49;00m\u001b[38;5;124;43mfile handling\u001b[39;49m\u001b[38;5;130;43;01m\\\\\u001b[39;49;00m\u001b[38;5;124;43mmsn\u001b[39;49m\u001b[38;5;130;43;01m\\\\\u001b[39;49;00m\u001b[38;5;124;43msample.txt\u001b[39;49m\u001b[38;5;124;43m\"\u001b[39;49m\u001b[43m)\u001b[49m\n",
      "\u001b[1;31mFileNotFoundError\u001b[0m: [WinError 3] The system cannot find the path specified: 'D:\\\\Desktop\\\\file handling\\\\msn\\\\sample.txt'"
     ]
    }
   ],
   "source": [
    "import os\n",
    "\"we can remove a file in any directory with the  the path of the file\"\n",
    "os.remove(\"D:\\\\Desktop\\\\file handling\\\\msn\\\\sample.txt\")"
   ]
  },
  {
   "cell_type": "markdown",
   "id": "f8249314-a1ce-48a9-87ca-b09612b13ca3",
   "metadata": {},
   "source": [
    "### 7. Remove empty directory"
   ]
  },
  {
   "cell_type": "code",
   "execution_count": 32,
   "id": "baf633eb-acaa-4d92-bfe1-bc40f56a97d4",
   "metadata": {},
   "outputs": [
    {
     "ename": "FileNotFoundError",
     "evalue": "[WinError 2] The system cannot find the file specified: 'new_folder'",
     "output_type": "error",
     "traceback": [
      "\u001b[1;31m---------------------------------------------------------------------------\u001b[0m",
      "\u001b[1;31mFileNotFoundError\u001b[0m                         Traceback (most recent call last)",
      "Cell \u001b[1;32mIn[32], line 2\u001b[0m\n\u001b[0;32m      1\u001b[0m \u001b[38;5;28;01mimport\u001b[39;00m\u001b[38;5;250m \u001b[39m\u001b[38;5;21;01mos\u001b[39;00m\n\u001b[1;32m----> 2\u001b[0m \u001b[43mos\u001b[49m\u001b[38;5;241;43m.\u001b[39;49m\u001b[43mrmdir\u001b[49m\u001b[43m(\u001b[49m\u001b[38;5;124;43m\"\u001b[39;49m\u001b[38;5;124;43mnew_folder\u001b[39;49m\u001b[38;5;124;43m\"\u001b[39;49m\u001b[43m)\u001b[49m\n",
      "\u001b[1;31mFileNotFoundError\u001b[0m: [WinError 2] The system cannot find the file specified: 'new_folder'"
     ]
    }
   ],
   "source": [
    "import os\n",
    "os.rmdir(\"new_folder\")"
   ]
  },
  {
   "cell_type": "markdown",
   "id": "e372e7bf-0adb-4ece-a137-0a8d2b1842ec",
   "metadata": {},
   "source": [
    "### 9. Rename file/folder"
   ]
  },
  {
   "cell_type": "code",
   "execution_count": 35,
   "id": "b11e76e7-b08d-496a-bbcf-4775f9d11745",
   "metadata": {},
   "outputs": [
    {
     "ename": "FileNotFoundError",
     "evalue": "[WinError 2] The system cannot find the file specified: 'old.txt' -> 'new.txt'",
     "output_type": "error",
     "traceback": [
      "\u001b[1;31m---------------------------------------------------------------------------\u001b[0m",
      "\u001b[1;31mFileNotFoundError\u001b[0m                         Traceback (most recent call last)",
      "Cell \u001b[1;32mIn[35], line 2\u001b[0m\n\u001b[0;32m      1\u001b[0m \u001b[38;5;28;01mimport\u001b[39;00m\u001b[38;5;250m \u001b[39m\u001b[38;5;21;01mos\u001b[39;00m\n\u001b[1;32m----> 2\u001b[0m \u001b[43mos\u001b[49m\u001b[38;5;241;43m.\u001b[39;49m\u001b[43mrename\u001b[49m\u001b[43m(\u001b[49m\u001b[38;5;124;43m\"\u001b[39;49m\u001b[38;5;124;43mold.txt\u001b[39;49m\u001b[38;5;124;43m\"\u001b[39;49m\u001b[43m,\u001b[49m\u001b[43m \u001b[49m\u001b[38;5;124;43m\"\u001b[39;49m\u001b[38;5;124;43mnew.txt\u001b[39;49m\u001b[38;5;124;43m\"\u001b[39;49m\u001b[43m)\u001b[49m\n",
      "\u001b[1;31mFileNotFoundError\u001b[0m: [WinError 2] The system cannot find the file specified: 'old.txt' -> 'new.txt'"
     ]
    }
   ],
   "source": [
    "import os\n",
    "os.rename(\"old.txt\", \"new.txt\")"
   ]
  },
  {
   "cell_type": "markdown",
   "id": "b789b7ee-0705-4f19-a47e-99f1eaf22f87",
   "metadata": {},
   "source": [
    "### 10. File existence check"
   ]
  },
  {
   "cell_type": "code",
   "execution_count": 38,
   "id": "f35a7cb8-54e3-41a6-9c89-cceb67d7e721",
   "metadata": {},
   "outputs": [
    {
     "name": "stdout",
     "output_type": "stream",
     "text": [
      "False\n"
     ]
    }
   ],
   "source": [
    "import os\n",
    "print(os.path.exists(\"sample.txt\"))\n"
   ]
  },
  {
   "cell_type": "markdown",
   "id": "c5686dc1-bbc2-4628-8e19-d68f12da7d2a",
   "metadata": {},
   "source": [
    "### 11. File info (size, etc.)"
   ]
  },
  {
   "cell_type": "code",
   "execution_count": 41,
   "id": "e60f5c92-14a7-432a-a601-2df8e9b3b527",
   "metadata": {},
   "outputs": [
    {
     "ename": "FileNotFoundError",
     "evalue": "[WinError 2] The system cannot find the file specified: 'sample.txt'",
     "output_type": "error",
     "traceback": [
      "\u001b[1;31m---------------------------------------------------------------------------\u001b[0m",
      "\u001b[1;31mFileNotFoundError\u001b[0m                         Traceback (most recent call last)",
      "Cell \u001b[1;32mIn[41], line 2\u001b[0m\n\u001b[0;32m      1\u001b[0m \u001b[38;5;28;01mimport\u001b[39;00m\u001b[38;5;250m \u001b[39m\u001b[38;5;21;01mos\u001b[39;00m\n\u001b[1;32m----> 2\u001b[0m \u001b[38;5;28mprint\u001b[39m(\u001b[43mos\u001b[49m\u001b[38;5;241;43m.\u001b[39;49m\u001b[43mpath\u001b[49m\u001b[38;5;241;43m.\u001b[39;49m\u001b[43mgetsize\u001b[49m\u001b[43m(\u001b[49m\u001b[38;5;124;43m\"\u001b[39;49m\u001b[38;5;124;43msample.txt\u001b[39;49m\u001b[38;5;124;43m\"\u001b[39;49m\u001b[43m)\u001b[49m)\n",
      "File \u001b[1;32m<frozen genericpath>:62\u001b[0m, in \u001b[0;36mgetsize\u001b[1;34m(filename)\u001b[0m\n",
      "\u001b[1;31mFileNotFoundError\u001b[0m: [WinError 2] The system cannot find the file specified: 'sample.txt'"
     ]
    }
   ],
   "source": [
    "import os\n",
    "print(os.path.getsize(\"sample.txt\"))\n"
   ]
  },
  {
   "cell_type": "markdown",
   "id": "d9d4c6cb-d9fb-4a26-b177-0f28cbc99253",
   "metadata": {},
   "source": [
    "### 12. Walk through directory tree"
   ]
  },
  {
   "cell_type": "code",
   "execution_count": 1,
   "id": "babd223d-56ca-40cf-b972-5a29c90efcce",
   "metadata": {},
   "outputs": [
    {
     "name": "stdout",
     "output_type": "stream",
     "text": [
      "Folder: videos\n",
      "Subfolders: ['.gallery', 'CacheClip', 'Captures', 'msn', 'NVIDIA', 'Resolve Project Backups']\n",
      "Files: ['2025-01-06 20-09-08.mp4', '2025-01-06 20-22-39.mp4', '2025-01-06 20-51-03.mp4', '2025-01-06 20-57-25.mp4', '2025-01-06 22-04-28.mp4', '2025-01-06 22-15-02.mp4', 'desktop.ini']\n",
      "Folder: videos\\.gallery\n",
      "Subfolders: ['38e8608c-4403-4c77-b36e-1f85581bc68b', '55dae910-0274-406a-9195-bda55c64e99d', 'fb27b895-7c06-4a89-b9a2-69ff9c0e1c51']\n",
      "Files: []\n",
      "Folder: videos\\.gallery\\38e8608c-4403-4c77-b36e-1f85581bc68b\n",
      "Subfolders: []\n",
      "Files: []\n",
      "Folder: videos\\.gallery\\55dae910-0274-406a-9195-bda55c64e99d\n",
      "Subfolders: []\n",
      "Files: ['Info.txt']\n",
      "Folder: videos\\.gallery\\fb27b895-7c06-4a89-b9a2-69ff9c0e1c51\n",
      "Subfolders: []\n",
      "Files: ['Info.txt']\n",
      "Folder: videos\\CacheClip\n",
      "Subfolders: ['55dae910-0274-406a-9195-bda55c64e99d', 'audio', 'fb27b895-7c06-4a89-b9a2-69ff9c0e1c51']\n",
      "Files: []\n",
      "Folder: videos\\CacheClip\\55dae910-0274-406a-9195-bda55c64e99d\n",
      "Subfolders: ['audio']\n",
      "Files: ['Info.txt']\n",
      "Folder: videos\\CacheClip\\55dae910-0274-406a-9195-bda55c64e99d\\audio\n",
      "Subfolders: []\n",
      "Files: []\n",
      "Folder: videos\\CacheClip\\audio\n",
      "Subfolders: ['C_', 'fairlightProfiles']\n",
      "Files: []\n",
      "Folder: videos\\CacheClip\\audio\\C_\n",
      "Subfolders: ['Users']\n",
      "Files: []\n",
      "Folder: videos\\CacheClip\\audio\\C_\\Users\n",
      "Subfolders: ['makka']\n",
      "Files: []\n",
      "Folder: videos\\CacheClip\\audio\\C_\\Users\\makka\n",
      "Subfolders: ['Desktop', 'OneDrive']\n",
      "Files: []\n",
      "Folder: videos\\CacheClip\\audio\\C_\\Users\\makka\\Desktop\n",
      "Subfolders: ['audio files', 'created vedios', 'msn', 'thirumala']\n",
      "Files: []\n",
      "Folder: videos\\CacheClip\\audio\\C_\\Users\\makka\\Desktop\\audio files\n",
      "Subfolders: []\n",
      "Files: ['amaran movie bgm0_0.mp3.pfl', 'amaran movie bgm0_1.mp3.pfl', 'WhatsApp Audio 2024-11-17 at 12.32.58_13364fae0_0.mp3.pfl', 'WhatsApp Audio 2024-11-17 at 12.32.58_13364fae0_1.mp3.pfl', 'WhatsApp Audio 2024-11-17 at 12.39.34_958d2c400_0.mp3.pfl', 'WhatsApp Audio 2024-11-17 at 12.39.34_958d2c400_1.mp3.pfl', 'WhatsApp Audio 2024-11-17 at 14.54.01_9c0631a30_0.mp3.pfl', 'WhatsApp Audio 2024-11-17 at 14.54.01_9c0631a30_1.mp3.pfl', 'WhatsApp Audio 2024-11-17 at 14.54.03_26460d170_0.mp3.pfl', 'WhatsApp Audio 2024-11-17 at 14.54.03_26460d170_1.mp3.pfl', 'WhatsApp Audio 2024-11-17 at 14.54.03_6da1be290_0.mp3.pfl', 'WhatsApp Audio 2024-11-17 at 14.54.03_6da1be290_1.mp3.pfl', 'WhatsApp Audio 2024-11-17 at 14.54.09_1f1d81ff0_0.mp3.pfl', 'WhatsApp Audio 2024-11-17 at 14.54.09_1f1d81ff0_1.mp3.pfl', 'WhatsApp Audio 2024-11-17 at 14.58.15_31e95b0a0_0.mp3.pfl', 'WhatsApp Audio 2024-11-17 at 14.58.15_31e95b0a0_1.mp3.pfl', 'WhatsApp Audio 2024-11-17 at 14.58.39_da0c62030_0.mp3.pfl', 'WhatsApp Audio 2024-11-17 at 14.58.39_da0c62030_1.mp3.pfl', 'WhatsApp Audio 2024-11-17 at 15.07.54_96db051f0_0.mp3.pfl', 'WhatsApp Audio 2024-11-17 at 15.07.54_96db051f0_1.mp3.pfl', 'WhatsApp Audio 2024-11-17 at 15.08.17_254fb1930_0.mp3.pfl', 'WhatsApp Audio 2024-11-17 at 15.08.17_254fb1930_1.mp3.pfl', 'WhatsApp Audio 2024-11-17 at 15.09.29_b6ea0b950_0.mp3.pfl', 'WhatsApp Audio 2024-11-17 at 15.09.29_b6ea0b950_1.mp3.pfl', 'WhatsApp Audio 2024-11-17 at 15.10.25_8e958d680_0.mp3.pfl', 'WhatsApp Audio 2024-11-17 at 15.10.25_8e958d680_1.mp3.pfl', 'WhatsApp Audio 2024-11-17 at 15.11.03_43ff85d60_0.mp3.pfl', 'WhatsApp Audio 2024-11-17 at 15.11.03_43ff85d60_1.mp3.pfl', 'WhatsApp Audio 2024-11-17 at 15.11.42_04eada840_0.mp3.pfl', 'WhatsApp Audio 2024-11-17 at 15.11.42_04eada840_1.mp3.pfl', 'WhatsApp Audio 2024-11-17 at 15.13.18_782d6e760_0.mp3.pfl', 'WhatsApp Audio 2024-11-17 at 15.13.18_782d6e760_1.mp3.pfl', 'WhatsApp Audio 2024-11-17 at 15.13.23_5707e8500_0.mp3.pfl', 'WhatsApp Audio 2024-11-17 at 15.13.23_5707e8500_1.mp3.pfl', 'WhatsApp Audio 2024-11-17 at 15.13.27_6d3b415e0_0.mp3.pfl', 'WhatsApp Audio 2024-11-17 at 15.13.27_6d3b415e0_1.mp3.pfl', 'WhatsApp Audio 2024-11-17 at 15.13.27_8c6752e40_0.mp3.pfl', 'WhatsApp Audio 2024-11-17 at 15.13.27_8c6752e40_1.mp3.pfl', 'WhatsApp Audio 2024-11-17 at 15.13.28_f1f035b40_0.mp3.pfl', 'WhatsApp Audio 2024-11-17 at 15.13.28_f1f035b40_1.mp3.pfl']\n",
      "Folder: videos\\CacheClip\\audio\\C_\\Users\\makka\\Desktop\\created vedios\n",
      "Subfolders: []\n",
      "Files: ['New Tab - Google Chrome 2024-11-16 13-41-220_0.mp4.pfl', 'New Tab - Google Chrome 2024-11-16 13-41-220_1.mp4.pfl']\n",
      "Folder: videos\\CacheClip\\audio\\C_\\Users\\makka\\Desktop\\msn\n",
      "Subfolders: ['motivation vedios']\n",
      "Files: []\n",
      "Folder: videos\\CacheClip\\audio\\C_\\Users\\makka\\Desktop\\msn\\motivation vedios\n",
      "Subfolders: []\n",
      "Files: ['82f6f1f4fbaa4b419816a40dc7b5ab950_0.mp4.pfl', '82f6f1f4fbaa4b419816a40dc7b5ab950_1.mp4.pfl', 'Full Video YEH JO DES HAI TERA  Swades  A.R. Rahman  Shahrukh Khan, - T-Series (720p, h264, youtube)0_0.mp4.pfl', 'Full Video YEH JO DES HAI TERA  Swades  A.R. Rahman  Shahrukh Khan, - T-Series (720p, h264, youtube)0_1.mp4.pfl', 'InShot_20241114_2124564290_0.mp4.pfl', 'InShot_20241114_2124564290_1.mp4.pfl', 'Life of Adithyan _poi vazhva_Never give up0_0.mp4.pfl', 'Life of Adithyan _poi vazhva_Never give up0_1.mp4.pfl', 'love me like you do song fifty shades of grey Ellie goulding0_0.mp4.pfl', 'love me like you do song fifty shades of grey Ellie goulding0_1.mp4.pfl', 'MUST READ BOOK For College Students ⚡_ Ishan Sharma #shorts0_0.mp4.pfl', 'MUST READ BOOK For College Students ⚡_ Ishan Sharma #shorts0_1.mp4.pfl', 'One Direction - Night Changes (Whatsapp Status Video)0_0.mp4.pfl', 'One Direction - Night Changes (Whatsapp Status Video)0_1.mp4.pfl', 'VID-20240825-WA00000_0.mp4.pfl', 'VID-20240825-WA00000_1.mp4.pfl', 'videoplayback (1)0_0.mp4.pfl', 'videoplayback (1)0_1.mp4.pfl', 'videoplayback (10)0_0.mp4.pfl', 'videoplayback (10)0_1.mp4.pfl', 'videoplayback (11)0_0.mp4.pfl', 'videoplayback (11)0_1.mp4.pfl', 'videoplayback (13)0_0.mp4.pfl', 'videoplayback (13)0_1.mp4.pfl', 'videoplayback (14)0_0.mp4.pfl', 'videoplayback (14)0_1.mp4.pfl', 'videoplayback (15)0_0.mp4.pfl', 'videoplayback (15)0_1.mp4.pfl', 'videoplayback (16)0_0.mp4.pfl', 'videoplayback (16)0_1.mp4.pfl', 'videoplayback (17)0_0.mp4.pfl', 'videoplayback (17)0_1.mp4.pfl', 'videoplayback (18)0_0.mp4.pfl', 'videoplayback (18)0_1.mp4.pfl', 'videoplayback (2)0_0.mp4.pfl', 'videoplayback (2)0_1.mp4.pfl', 'videoplayback (22)0_0.mp4.pfl', 'videoplayback (22)0_1.mp4.pfl', 'videoplayback (23)0_0.mp4.pfl', 'videoplayback (23)0_1.mp4.pfl', 'videoplayback (24)0_0.mp4.pfl', 'videoplayback (24)0_1.mp4.pfl', 'videoplayback (25)0_0.mp4.pfl', 'videoplayback (25)0_1.mp4.pfl', 'videoplayback (27)0_0.mp4.pfl', 'videoplayback (27)0_1.mp4.pfl', 'videoplayback (29)0_0.mp4.pfl', 'videoplayback (29)0_1.mp4.pfl', 'videoplayback (30)0_0.mp4.pfl', 'videoplayback (30)0_1.mp4.pfl', 'videoplayback (31)0_0.mp4.pfl', 'videoplayback (31)0_1.mp4.pfl', 'videoplayback (32)0_0.mp4.pfl', 'videoplayback (32)0_1.mp4.pfl', 'videoplayback (33)0_0.mp4.pfl', 'videoplayback (33)0_1.mp4.pfl', 'videoplayback (34)0_0.mp4.pfl', 'videoplayback (34)0_1.mp4.pfl', 'videoplayback (35)0_0.mp4.pfl', 'videoplayback (35)0_1.mp4.pfl', 'videoplayback (36)0_0.mp4.pfl', 'videoplayback (36)0_1.mp4.pfl', 'videoplayback (37)0_0.mp4.pfl', 'videoplayback (37)0_1.mp4.pfl', 'videoplayback (38)0_0.mp4.pfl', 'videoplayback (38)0_1.mp4.pfl', 'videoplayback (39)0_0.mp4.pfl', 'videoplayback (39)0_1.mp4.pfl', 'videoplayback (42)0_0.mp4.pfl', 'videoplayback (42)0_1.mp4.pfl', 'videoplayback (44)0_0.mp4.pfl', 'videoplayback (44)0_1.mp4.pfl', 'videoplayback (49)0_0.mp4.pfl', 'videoplayback (49)0_1.mp4.pfl', 'videoplayback (9)0_0.mp4.pfl', 'videoplayback (9)0_1.mp4.pfl', 'videoplayback0_0.mp4.pfl', 'videoplayback0_1.mp4.pfl', 'video_20241023_170118_edit0_0.mp4.pfl', 'video_20241023_170118_edit0_1.mp4.pfl', 'Your THOUGHTS determine your LIFE (How to manifest) - Norman Vincent Peale0_0.mp4.pfl', 'Your THOUGHTS determine your LIFE (How to manifest) - Norman Vincent Peale0_1.mp4.pfl']\n",
      "Folder: videos\\CacheClip\\audio\\C_\\Users\\makka\\Desktop\\thirumala\n",
      "Subfolders: []\n",
      "Files: ['WhatsApp Video 2024-12-05 at 07.39.45_4192456c0_0.mp4.pfl', 'WhatsApp Video 2024-12-05 at 07.39.45_4192456c0_1.mp4.pfl']\n",
      "Folder: videos\\CacheClip\\audio\\C_\\Users\\makka\\OneDrive\n",
      "Subfolders: ['Desktop']\n",
      "Files: []\n",
      "Folder: videos\\CacheClip\\audio\\C_\\Users\\makka\\OneDrive\\Desktop\n",
      "Subfolders: ['created vedios']\n",
      "Files: []\n",
      "Folder: videos\\CacheClip\\audio\\C_\\Users\\makka\\OneDrive\\Desktop\\created vedios\n",
      "Subfolders: []\n",
      "Files: ['New Tab - Google Chrome 2024-11-16 13-41-220_0.mp4.pfl', 'New Tab - Google Chrome 2024-11-16 13-41-220_1.mp4.pfl']\n",
      "Folder: videos\\CacheClip\\audio\\fairlightProfiles\n",
      "Subfolders: ['0', '8', 'a']\n",
      "Files: []\n",
      "Folder: videos\\CacheClip\\audio\\fairlightProfiles\\0\n",
      "Subfolders: []\n",
      "Files: ['FLP_73944a37-d946-4444-a4a9-b492b3145630_80004001.pfl', 'FLP_73944a37-d946-4444-a4a9-b492b3145630_80004002.pfl']\n",
      "Folder: videos\\CacheClip\\audio\\fairlightProfiles\\8\n",
      "Subfolders: []\n",
      "Files: ['FLP_81d479ca-2b48-446f-83fb-1cdf25a68978_80004001.pfl', 'FLP_81d479ca-2b48-446f-83fb-1cdf25a68978_80004002.pfl']\n",
      "Folder: videos\\CacheClip\\audio\\fairlightProfiles\\a\n",
      "Subfolders: []\n",
      "Files: ['FLP_3df0e3d4-d485-40dd-9ee3-c6592959245a_80004001.pfl', 'FLP_3df0e3d4-d485-40dd-9ee3-c6592959245a_80004002.pfl']\n",
      "Folder: videos\\CacheClip\\fb27b895-7c06-4a89-b9a2-69ff9c0e1c51\n",
      "Subfolders: ['audio']\n",
      "Files: ['Info.txt']\n",
      "Folder: videos\\CacheClip\\fb27b895-7c06-4a89-b9a2-69ff9c0e1c51\\audio\n",
      "Subfolders: []\n",
      "Files: []\n",
      "Folder: videos\\Captures\n",
      "Subfolders: []\n",
      "Files: [\"(179) Blockbuster Hit Movie 'Charlie' _ South To Bangla Dub _ Dulquer Salmaan , Parvathy Thiruvothu - YouTube - Google Chrome 2025-08-24 13-43-57.mp4\", 'AI Chatbot Deployment Guide - Google Chrome 2025-06-17 22-43-38.mp4', 'Automating Screen Recording Python - Google Chrome 2025-02-22 10-21-04.mp4', 'Automating Screen Recording Python - Google Chrome 2025-02-22 10-21-31.mp4', 'desktop.ini', 'Home - NetMirror - Brave 2025-08-07 17-09-17.mp4', 'Home - NetMirror - Brave 2025-08-07 17-10-22.mp4', 'Home - NetMirror - Brave 2025-08-07 17-14-54.mp4', 'Home - NetMirror - Brave 2025-08-07 17-15-21.mp4', 'Home - NetMirror - Brave 2025-08-16 14-22-52.mp4', 'Home - NetMirror - Brave 2025-08-16 14-45-43.mp4', 'MINGW64__c_Users_makka_desktop_atsk\\xa0\\xa0\\xa0\\xa0\\xa0\\xa0\\xa0\\xa0\\xa0\\xa0\\xa0\\xa0\\xa0\\xa0\\xa0\\xa0\\xa0\\xa0\\xa0\\xa0\\xa0\\xa0\\xa0\\xa0\\xa0\\xa0\\xa0\\xa0\\xa0\\xa0\\xa0\\xa0\\xa0\\xa0\\xa0\\xa0\\xa0\\xa0\\xa0\\xa0\\xa0\\xa0\\xa0\\xa0\\xa0\\xa0\\xa0\\xa0\\xa0\\xa0 2025-02-22 10-31-44.mp4', 'MINGW64__c_Users_makka_desktop_atsk\\xa0\\xa0\\xa0\\xa0\\xa0\\xa0\\xa0\\xa0\\xa0\\xa0\\xa0\\xa0\\xa0\\xa0\\xa0\\xa0\\xa0\\xa0\\xa0\\xa0\\xa0\\xa0\\xa0\\xa0\\xa0\\xa0\\xa0\\xa0\\xa0\\xa0\\xa0\\xa0\\xa0\\xa0\\xa0\\xa0\\xa0\\xa0\\xa0\\xa0\\xa0\\xa0\\xa0\\xa0\\xa0\\xa0\\xa0\\xa0\\xa0\\xa0 2025-02-22 10-37-19.mp4', 'MINGW64__c_Users_makka_desktop_atsk\\xa0\\xa0\\xa0\\xa0\\xa0\\xa0\\xa0\\xa0\\xa0\\xa0\\xa0\\xa0\\xa0\\xa0\\xa0\\xa0\\xa0\\xa0\\xa0\\xa0\\xa0\\xa0\\xa0\\xa0\\xa0\\xa0\\xa0\\xa0\\xa0\\xa0\\xa0\\xa0\\xa0\\xa0\\xa0\\xa0\\xa0\\xa0\\xa0\\xa0\\xa0\\xa0\\xa0\\xa0\\xa0\\xa0\\xa0\\xa0\\xa0\\xa0 2025-02-22 10-40-36.mp4', 'MSN Chatbot - Google Chrome 2025-06-17 22-49-00.mp4', 'New Tab - Google Chrome 2025-06-17 22-49-28.mp4', 'New Tab - Google Chrome 2025-06-17 22-50-52.mp4']\n",
      "Folder: videos\\msn\n",
      "Subfolders: []\n",
      "Files: ['msn.mlt']\n",
      "Folder: videos\\NVIDIA\n",
      "Subfolders: []\n",
      "Files: ['.lock_13104', '.lock_17028', '.lock_25628', '.lock_28368', '.lock_32512', '.lock_40640']\n",
      "Folder: videos\\Resolve Project Backups\n",
      "Subfolders: ['55dae910-0274-406a-9195-bda55c64e99d', 'fb27b895-7c06-4a89-b9a2-69ff9c0e1c51']\n",
      "Files: []\n",
      "Folder: videos\\Resolve Project Backups\\55dae910-0274-406a-9195-bda55c64e99d\n",
      "Subfolders: ['73944a37-d946-4444-a4a9-b492b3145630']\n",
      "Files: []\n",
      "Folder: videos\\Resolve Project Backups\\55dae910-0274-406a-9195-bda55c64e99d\\73944a37-d946-4444-a4a9-b492b3145630\n",
      "Subfolders: []\n",
      "Files: ['Timeline.20241205080525', 'Timeline.20241205081531', 'Timeline.20241205082536']\n",
      "Folder: videos\\Resolve Project Backups\\fb27b895-7c06-4a89-b9a2-69ff9c0e1c51\n",
      "Subfolders: ['3df0e3d4-d485-40dd-9ee3-c6592959245a']\n",
      "Files: []\n",
      "Folder: videos\\Resolve Project Backups\\fb27b895-7c06-4a89-b9a2-69ff9c0e1c51\\3df0e3d4-d485-40dd-9ee3-c6592959245a\n",
      "Subfolders: []\n",
      "Files: ['Timeline.20241116140638', 'Timeline.20241116141748']\n"
     ]
    }
   ],
   "source": [
    "import os\n",
    "for root, dirs, files in os.walk(\"videos\"):\n",
    "    print(\"Folder:\", root)\n",
    "    print(\"Subfolders:\", dirs)\n",
    "    print(\"Files:\", files)\n"
   ]
  },
  {
   "cell_type": "markdown",
   "id": "f057713f-0e23-4b1f-afc6-66f5803fe83d",
   "metadata": {},
   "source": [
    "### 13.Read a file"
   ]
  },
  {
   "cell_type": "code",
   "execution_count": 4,
   "id": "c6ae4604-62d9-49df-a39e-6ee7b5d455ca",
   "metadata": {},
   "outputs": [
    {
     "ename": "FileNotFoundError",
     "evalue": "[Errno 2] No such file or directory: 'sample1.txt'",
     "output_type": "error",
     "traceback": [
      "\u001b[1;31m---------------------------------------------------------------------------\u001b[0m",
      "\u001b[1;31mFileNotFoundError\u001b[0m                         Traceback (most recent call last)",
      "Cell \u001b[1;32mIn[4], line 2\u001b[0m\n\u001b[0;32m      1\u001b[0m \u001b[38;5;66;03m#Option-1\u001b[39;00m\n\u001b[1;32m----> 2\u001b[0m f \u001b[38;5;241m=\u001b[39m \u001b[38;5;28;43mopen\u001b[39;49m\u001b[43m(\u001b[49m\u001b[38;5;124;43m\"\u001b[39;49m\u001b[38;5;124;43msample1.txt\u001b[39;49m\u001b[38;5;124;43m\"\u001b[39;49m\u001b[43m,\u001b[49m\u001b[43m \u001b[49m\u001b[38;5;124;43m\"\u001b[39;49m\u001b[38;5;124;43mr\u001b[39;49m\u001b[38;5;124;43m\"\u001b[39;49m\u001b[43m)\u001b[49m\n\u001b[0;32m      3\u001b[0m \u001b[38;5;28mprint\u001b[39m(f\u001b[38;5;241m.\u001b[39mread())\n\u001b[0;32m      4\u001b[0m f\u001b[38;5;241m.\u001b[39mclose()\n",
      "File \u001b[1;32m~\\AppData\\Roaming\\Python\\Python312\\site-packages\\IPython\\core\\interactiveshell.py:284\u001b[0m, in \u001b[0;36m_modified_open\u001b[1;34m(file, *args, **kwargs)\u001b[0m\n\u001b[0;32m    277\u001b[0m \u001b[38;5;28;01mif\u001b[39;00m file \u001b[38;5;129;01min\u001b[39;00m {\u001b[38;5;241m0\u001b[39m, \u001b[38;5;241m1\u001b[39m, \u001b[38;5;241m2\u001b[39m}:\n\u001b[0;32m    278\u001b[0m     \u001b[38;5;28;01mraise\u001b[39;00m \u001b[38;5;167;01mValueError\u001b[39;00m(\n\u001b[0;32m    279\u001b[0m         \u001b[38;5;124mf\u001b[39m\u001b[38;5;124m\"\u001b[39m\u001b[38;5;124mIPython won\u001b[39m\u001b[38;5;124m'\u001b[39m\u001b[38;5;124mt let you open fd=\u001b[39m\u001b[38;5;132;01m{\u001b[39;00mfile\u001b[38;5;132;01m}\u001b[39;00m\u001b[38;5;124m by default \u001b[39m\u001b[38;5;124m\"\u001b[39m\n\u001b[0;32m    280\u001b[0m         \u001b[38;5;124m\"\u001b[39m\u001b[38;5;124mas it is likely to crash IPython. If you know what you are doing, \u001b[39m\u001b[38;5;124m\"\u001b[39m\n\u001b[0;32m    281\u001b[0m         \u001b[38;5;124m\"\u001b[39m\u001b[38;5;124myou can use builtins\u001b[39m\u001b[38;5;124m'\u001b[39m\u001b[38;5;124m open.\u001b[39m\u001b[38;5;124m\"\u001b[39m\n\u001b[0;32m    282\u001b[0m     )\n\u001b[1;32m--> 284\u001b[0m \u001b[38;5;28;01mreturn\u001b[39;00m \u001b[43mio_open\u001b[49m\u001b[43m(\u001b[49m\u001b[43mfile\u001b[49m\u001b[43m,\u001b[49m\u001b[43m \u001b[49m\u001b[38;5;241;43m*\u001b[39;49m\u001b[43margs\u001b[49m\u001b[43m,\u001b[49m\u001b[43m \u001b[49m\u001b[38;5;241;43m*\u001b[39;49m\u001b[38;5;241;43m*\u001b[39;49m\u001b[43mkwargs\u001b[49m\u001b[43m)\u001b[49m\n",
      "\u001b[1;31mFileNotFoundError\u001b[0m: [Errno 2] No such file or directory: 'sample1.txt'"
     ]
    }
   ],
   "source": [
    "#Option-1\n",
    "f = open(\"sample1.txt\", \"r\")\n",
    "print(f.read())\n",
    "f.close()\n",
    "\n",
    "#option-2\n",
    "with open(\"sample.txt\", \"r\") as f:\n",
    "    content = f.read()\n",
    "    print(content)"
   ]
  },
  {
   "cell_type": "markdown",
   "id": "73ae6b95-ad1f-4969-94ff-d1a27e23970b",
   "metadata": {},
   "source": [
    "### 14.Insert a text into a file or overwrite a text in to a file"
   ]
  },
  {
   "cell_type": "code",
   "execution_count": 7,
   "id": "820aec47-2965-4f8b-8e4e-eeff2b7df475",
   "metadata": {},
   "outputs": [],
   "source": [
    "# Write into a file (it creates if not exists, overwrites if exists)\n",
    "#option-1\n",
    "# Write to a file\n",
    "f = open(\"sample.txt\", \"w\")\n",
    "f.write(\"Hello, File Handling!\\n\")\n",
    "f.close()\n",
    "\n",
    "#option-2\n",
    "with open(\"sample1.txt\", \"w\") as f:\n",
    "    f.write(\"Hi every one \\n \")\n",
    "    f.write(\"I am satynarayana.\")\n"
   ]
  },
  {
   "cell_type": "markdown",
   "id": "40ea4327-6a77-442e-84ef-143d0d7f2d00",
   "metadata": {},
   "source": [
    "### 15.Append text to a file\n",
    "#### it creates a file if not exists and if exists it add the text to the existing text in it?\n"
   ]
  },
  {
   "cell_type": "code",
   "execution_count": 14,
   "id": "36b440e3-604c-42c9-80f6-433608916e30",
   "metadata": {},
   "outputs": [],
   "source": [
    "with open(\"sampcdcecele.txt\", \"a\") as f:\n",
    "    f.write(\"This is an extra line.\\n\")"
   ]
  },
  {
   "cell_type": "markdown",
   "id": "6c03be70-934d-4e81-9006-a497101fbc08",
   "metadata": {},
   "source": [
    "### 16.copy contents one file using read mode and conpy those by inserting that text in a new file with write mode"
   ]
  },
  {
   "cell_type": "code",
   "execution_count": 17,
   "id": "c44ae8b8-6bba-4f93-b268-3555ee84a2a7",
   "metadata": {},
   "outputs": [],
   "source": [
    "with open(\"sample1.txt\", \"r\") as src, open(\"copy.txt\", \"w\") as dest:\n",
    "    dest.write(src.read())\n"
   ]
  },
  {
   "cell_type": "markdown",
   "id": "f4f48cc0-7c89-4a27-9d21-7cd2d44dc16e",
   "metadata": {},
   "source": [
    "### 17.Working with lines"
   ]
  },
  {
   "cell_type": "code",
   "execution_count": 19,
   "id": "5a746ae7-2e76-4550-a607-7a187e93d9d1",
   "metadata": {},
   "outputs": [
    {
     "name": "stdout",
     "output_type": "stream",
     "text": [
      "Total lines: 1\n",
      "Hello, File Handling!\n",
      "\n",
      "['Hello, File Handling!\\n']\n"
     ]
    }
   ],
   "source": [
    "with open(\"sample.txt\", \"r\") as f:\n",
    "    lines = f.readlines()\n",
    "\n",
    "print(\"Total lines:\", len(lines))\n",
    "for line in lines:\n",
    "    print(line)\n",
    "print(lines)"
   ]
  },
  {
   "cell_type": "markdown",
   "id": "04e01890-0759-4a25-a88d-5282f4620f13",
   "metadata": {},
   "source": [
    "### 18.File size and info"
   ]
  },
  {
   "cell_type": "code",
   "execution_count": 25,
   "id": "8669607d-0893-46ef-ae1c-4757d376d250",
   "metadata": {},
   "outputs": [
    {
     "name": "stdout",
     "output_type": "stream",
     "text": [
      "File size: 34 bytes\n",
      "Absolute path: C:\\Users\\makka\\sample1.txt\n"
     ]
    }
   ],
   "source": [
    "import os\n",
    "\n",
    "file = \"sample1.txt\"\n",
    "#the size of the file or path\n",
    "print(\"File size:\", os.path.getsize(file), \"bytes\")\n",
    "#we detect where exactly the file located\n",
    "print(\"Absolute path:\", os.path.abspath(file))\n"
   ]
  },
  {
   "cell_type": "markdown",
   "id": "3ceb4fe1-932f-44aa-9085-9c471f6f6777",
   "metadata": {},
   "source": [
    "### 19.Exception Handling in File Operations\n",
    " when we execute to to read a file if that file does not exits we get FileNotError and then we print our own version of errors"
   ]
  },
  {
   "cell_type": "code",
   "execution_count": 29,
   "id": "950d1ddd-e9a9-4f13-9479-b0ef9ee2d092",
   "metadata": {},
   "outputs": [
    {
     "name": "stdout",
     "output_type": "stream",
     "text": [
      "File not found!\n"
     ]
    }
   ],
   "source": [
    "try:\n",
    "    with open(\"nofile.txt\", \"r\") as f:\n",
    "        data = f.read()\n",
    "except FileNotFoundError:\n",
    "    print(\"File not found!\")"
   ]
  },
  {
   "cell_type": "markdown",
   "id": "ff9a6879-c09d-4dab-b477-6e3bc6460596",
   "metadata": {},
   "source": [
    "### 20.Creating a path"
   ]
  },
  {
   "cell_type": "code",
   "execution_count": 35,
   "id": "5845a867-2573-48d4-9691-8588fcf4a12f",
   "metadata": {},
   "outputs": [
    {
     "name": "stdout",
     "output_type": "stream",
     "text": [
      "C:Users\\Admin\\Desktop\\file.txt\n"
     ]
    }
   ],
   "source": [
    "import os\n",
    "file_path = os.path.join(\"C:\", \"Users\", \"Admin\", \"Desktop\", \"file.txt\")\n",
    "print(file_path)\n"
   ]
  },
  {
   "cell_type": "markdown",
   "id": "73ccdd02-a5b1-4244-a3bc-f57017d61c84",
   "metadata": {},
   "source": [
    "### 21.count words,characters,lines in a file\n",
    "*we can claculate how many words are there in a file by splitting the text with space into a list and find the list length* "
   ]
  },
  {
   "cell_type": "code",
   "execution_count": 39,
   "id": "c2e207b7-9cdb-4c77-9146-92705467dd01",
   "metadata": {},
   "outputs": [
    {
     "name": "stdout",
     "output_type": "stream",
     "text": [
      "['Hi', 'every', 'one', 'I', 'am', 'satynarayana.']\n",
      "Word count: 6\n",
      "Characters: 33\n",
      "Lines: 2\n"
     ]
    }
   ],
   "source": [
    "with open(\"sample1.txt\", \"r\") as f:\n",
    "    text = f.read()\n",
    "\n",
    "words = text.split()\n",
    "print(words)\n",
    "print(\"Word count:\", len(words))\n",
    "print(\"Characters:\", len(text))\n",
    "print(\"Lines:\", len(text.splitlines()))\n"
   ]
  },
  {
   "cell_type": "markdown",
   "id": "ec974bf6-f606-472b-9c30-6b32ff51992e",
   "metadata": {},
   "source": [
    "### 22.Advanced – Search Files by Extension"
   ]
  },
  {
   "cell_type": "code",
   "execution_count": 45,
   "id": "7c6edc7c-d37c-4ea9-93dd-a9a900f6ba5e",
   "metadata": {},
   "outputs": [
    {
     "name": "stdout",
     "output_type": "stream",
     "text": [
      "Text file: msn.py\n",
      "Text file: project code kalyan code.py\n",
      "Text file: suppu project code.py\n",
      "Text file: untitled.py\n",
      "Text file: untitled1.py\n"
     ]
    }
   ],
   "source": [
    "import os\n",
    "\n",
    "folder = \".\"\n",
    "for file in os.listdir(folder):\n",
    "    if file.endswith(\".py\"):\n",
    "        print(\"Text file:\", file)"
   ]
  },
  {
   "cell_type": "markdown",
   "id": "644d87df-a46f-4da5-9fcc-3754f7019253",
   "metadata": {},
   "source": [
    " # **Part-B->pathlib Module**"
   ]
  },
  {
   "cell_type": "markdown",
   "id": "9eabe721-5c8f-45d0-a368-e7377a848ceb",
   "metadata": {},
   "source": [
    "### 1. Current directory"
   ]
  },
  {
   "cell_type": "code",
   "execution_count": 55,
   "id": "93a0661a-2316-4047-8edd-3b6dc18b9007",
   "metadata": {},
   "outputs": [
    {
     "name": "stdout",
     "output_type": "stream",
     "text": [
      "C:\\Users\\makka\n"
     ]
    }
   ],
   "source": [
    "from pathlib import Path\n",
    "print(Path.cwd())\n"
   ]
  },
  {
   "cell_type": "markdown",
   "id": "5b540ec4-d996-491e-862b-7221b4c5c294",
   "metadata": {},
   "source": [
    "### 2. Change directory"
   ]
  },
  {
   "cell_type": "code",
   "execution_count": 58,
   "id": "800b6bc0-7754-4d4e-8b8d-f5f0aa0c9a0c",
   "metadata": {},
   "outputs": [
    {
     "name": "stdout",
     "output_type": "stream",
     "text": [
      "D:\\Desktop\n"
     ]
    }
   ],
   "source": [
    "from pathlib import Path\n",
    "import os\n",
    "\n",
    "os.chdir(Path(\"D:/Desktop\"))\n",
    "print(Path.cwd())\n"
   ]
  },
  {
   "cell_type": "markdown",
   "id": "98955136-eef2-41f8-9387-222cdb91859d",
   "metadata": {},
   "source": [
    "### 3. List files in directory"
   ]
  },
  {
   "cell_type": "code",
   "execution_count": 63,
   "id": "15df2fbb-8925-41be-b5c6-a364250e3a6c",
   "metadata": {},
   "outputs": [
    {
     "name": "stdout",
     "output_type": "stream",
     "text": [
      "[WindowsPath('Adobe Express (makka).lnk'), WindowsPath('adobe.lnk'), WindowsPath('ai vedios.lnk'), WindowsPath('AI Voice Generator & Text to Speech   ElevenLabs.lnk'), WindowsPath('Amazon leader ship Principles'), WindowsPath('annayyafiles'), WindowsPath('ApplicantSite (makka).lnk'), WindowsPath('Applications   Amazon.jobs (makka).lnk'), WindowsPath('Aptitude - Number System (makka).lnk'), WindowsPath('Aptitude Questions and Answers (makka).lnk'), WindowsPath('Biographies and must read books'), WindowsPath('Bookface (makka).lnk'), WindowsPath('Books'), WindowsPath('Brave.lnk'), WindowsPath('Browse Music - SoundAudio (makka).lnk'), WindowsPath('canva.lnk'), WindowsPath('Cart - GoDaddy (makka).lnk'), WindowsPath('CHAPTER 1.docx (makka).lnk'), WindowsPath('ChatGPT – Generative AI.lnk'), WindowsPath('ChatGPT-3.5 Tutorial.lnk'), WindowsPath('ChatGPT-4 Tutorial.lnk'), WindowsPath('ChatGPT.lnk'), WindowsPath('Claude.lnk'), WindowsPath('courses online.lnk'), WindowsPath('Cursor.lnk'), WindowsPath('DaVinci Resolve.lnk'), WindowsPath('DeepSeek - Into the Unknown (makka).lnk'), WindowsPath('desktop.ini'), WindowsPath('Dev Community.lnk'), WindowsPath('Developer Roadmaps - roadmap.sh (makka).lnk'), WindowsPath('Devpost (makka).lnk'), WindowsPath('Django Tutorial.lnk'), WindowsPath('Dropbox.lnk'), WindowsPath('dsa practise problems from the book'), WindowsPath('DSA Problems.lnk'), WindowsPath('DSA Tutorial (makka).lnk'), WindowsPath('EdClub (makka).lnk'), WindowsPath('fast-jwt'), WindowsPath('FastAPI.lnk'), WindowsPath('ffmpeg.audio.wasm-master'), WindowsPath('file handling'), WindowsPath('fiverr.lnk'), WindowsPath('Flask – Overview.lnk'), WindowsPath('folder'), WindowsPath('Gagan Pratap Arithmetic Complete Class Notes   PDF   Arithmetic   Elementary Mathematics (makka).lnk'), WindowsPath('Git Tutorial (makka).lnk'), WindowsPath('GitHub'), WindowsPath('github actions.lnk'), WindowsPath('github clone repo projects'), WindowsPath('GitHub.lnk'), WindowsPath('Glassdoor.lnk'), WindowsPath('HackerRank (makka).lnk'), WindowsPath('Handwritten Notes'), WindowsPath('html5'), WindowsPath('important tutorials'), WindowsPath('Indeed.lnk'), WindowsPath('Internshala.lnk'), WindowsPath('jala-academy-frontend-d7e3bb1900e2'), WindowsPath('javascript'), WindowsPath('JavaScript Tutorial (makka).lnk'), WindowsPath('Job Related'), WindowsPath('langchain.lnk'), WindowsPath('LangSmith (makka).lnk'), WindowsPath('LangSmith.lnk'), WindowsPath('latex editor.lnk'), WindowsPath('library-online.lnk'), WindowsPath('linkedin.lnk'), WindowsPath('logics DSA.lnk'), WindowsPath('lokesh'), WindowsPath('LTI Mind tree  do'), WindowsPath('mail.lnk'), WindowsPath('MongoDBCompass.lnk'), WindowsPath('mongo_fast'), WindowsPath('msn'), WindowsPath('MSN Chatbot (makka).lnk'), WindowsPath('msndarling'), WindowsPath('msn_tasks'), WindowsPath('Naukari.lnk'), WindowsPath('New Off-Campus Jobs - New Off Campus Jobs LATEST JOBS (makka).lnk'), WindowsPath('Notion.lnk'), WindowsPath('Numpy'), WindowsPath('Online Assessment overview - Amazon SDE Intern Online Assessment (OA) and Interview Prep Course (makka).lnk'), WindowsPath('Online assessment prep for SDE roles (makka).lnk'), WindowsPath('OpenRouter (makka).lnk'), WindowsPath('outlook.lnk'), WindowsPath('paper2'), WindowsPath('parent'), WindowsPath('Perplexity (makka).lnk'), WindowsPath('Postman.lnk'), WindowsPath('Problems - LeetCode.lnk'), WindowsPath('Python'), WindowsPath('Quick Start – React (makka).lnk'), WindowsPath('Quora.lnk'), WindowsPath('railway.lnk'), WindowsPath('React Native Tutorial (makka).lnk'), WindowsPath('Reddit.lnk'), WindowsPath('render.lnk'), WindowsPath('Shotcut.lnk'), WindowsPath('simplebf'), WindowsPath('Souce codes of packeges'), WindowsPath('Stack Overflow.lnk'), WindowsPath('Sublime Text 3.lnk'), WindowsPath('System Design Interview Questions (Updated 2025) - Exponent (makka).lnk'), WindowsPath('telegram bot'), WindowsPath('Telegram Desktop'), WindowsPath('TeraBox - Free Cloud Storage Up To 1 TB, Send Large Files Online (makka).lnk'), WindowsPath('TeraBox.lnk'), WindowsPath('This PC - Shortcut.lnk'), WindowsPath('Top 50 BPO Interview Questions and Answers (2025) - Tpoint Tech (makka).lnk'), WindowsPath('Top 50 HR Interview Questions and Answers (2025) - Tpoint Tech (makka).lnk'), WindowsPath('unstop.lnk'), WindowsPath('vercel.lnk'), WindowsPath('Visual Studio Code.lnk'), WindowsPath('VLC media player.lnk'), WindowsPath('working projects')]\n"
     ]
    }
   ],
   "source": [
    "from pathlib import Path\n",
    "p = Path(\".\")\n",
    "print([f for f in p.iterdir()])\n"
   ]
  },
  {
   "cell_type": "markdown",
   "id": "c37010d2-97b7-4a52-9c98-77cc3a2f9515",
   "metadata": {},
   "source": [
    "### 4. Only files / Only directories"
   ]
  },
  {
   "cell_type": "code",
   "execution_count": null,
   "id": "28eb40f6-21dc-470b-85a5-7294b0a14d0d",
   "metadata": {},
   "outputs": [],
   "source": [
    "from pathlib import Path\n",
    "p = Path(\".\")\n",
    "print([f for f in p.iterdir() if f.is_file()])\n",
    "print([d for d in p.iterdir() if d.is_dir()])"
   ]
  },
  {
   "cell_type": "markdown",
   "id": "3eec729d-79b0-419a-80ca-3d49ad91cb7e",
   "metadata": {},
   "source": [
    "### 5. Create single directory"
   ]
  },
  {
   "cell_type": "code",
   "execution_count": null,
   "id": "a619b39a-2de3-4045-8545-e9ad3c5d0e3d",
   "metadata": {},
   "outputs": [],
   "source": [
    "from pathlib import Path\n",
    "Path(\"new_folderttygh\").mkdir()"
   ]
  },
  {
   "cell_type": "markdown",
   "id": "9eea9169-f863-4a92-a082-ff9654b4e786",
   "metadata": {},
   "source": [
    "### 6. Create nested directories"
   ]
  },
  {
   "cell_type": "code",
   "execution_count": 90,
   "id": "e0d6c4e4-9853-4803-b6e0-c40948fead2d",
   "metadata": {},
   "outputs": [],
   "source": [
    "from pathlib import Path\n",
    "Path(\"parent/child/grandchild\").mkdir(parents=True, exist_ok=True)\n"
   ]
  },
  {
   "cell_type": "markdown",
   "id": "379177bc-5f1a-44c6-939e-1af61240dfbe",
   "metadata": {},
   "source": [
    "### 7. Delete file"
   ]
  },
  {
   "cell_type": "code",
   "execution_count": 105,
   "id": "b7d44dc5-7896-47b5-ab75-e795f6d80dc0",
   "metadata": {},
   "outputs": [],
   "source": [
    "from pathlib import Path\n",
    "Path(\"D:\\\\Desktop\\\\file handling\\\\nefolder\\\\b.txt\").unlink()"
   ]
  },
  {
   "cell_type": "markdown",
   "id": "a549864d-9ed3-414d-9e15-783b1bde8056",
   "metadata": {},
   "source": [
    "## 8.Delete empty folder"
   ]
  },
  {
   "cell_type": "code",
   "execution_count": 108,
   "id": "76fbaeca-a8b3-4acb-ad00-07d81b50099d",
   "metadata": {},
   "outputs": [],
   "source": [
    "from pathlib import Path\n",
    "Path(\"D:\\\\Desktop\\\\file handling\\\\nefolder\").rmdir()"
   ]
  },
  {
   "cell_type": "markdown",
   "id": "011b3334-10c3-46ec-be86-3b53184cdd4f",
   "metadata": {},
   "source": [
    "### 9. Rename file/folder"
   ]
  },
  {
   "cell_type": "code",
   "execution_count": 114,
   "id": "663b4215-4f4e-4336-bccd-2993c6985754",
   "metadata": {},
   "outputs": [
    {
     "data": {
      "text/plain": [
       "WindowsPath('news.txt')"
      ]
     },
     "execution_count": 114,
     "metadata": {},
     "output_type": "execute_result"
    }
   ],
   "source": [
    "from pathlib import Path\n",
    "Path(\"D:\\\\Desktop\\\\file handling\\\\sample.txt\").rename(\"news.txt\")\n"
   ]
  },
  {
   "cell_type": "markdown",
   "id": "7f8fd865-1920-47a9-9208-a8b69dcc7012",
   "metadata": {},
   "source": [
    "### 10. Check existence"
   ]
  },
  {
   "cell_type": "code",
   "execution_count": 117,
   "id": "977ca28f-4cdf-4f26-b4e3-9401e36f0b8e",
   "metadata": {},
   "outputs": [
    {
     "name": "stdout",
     "output_type": "stream",
     "text": [
      "False\n"
     ]
    }
   ],
   "source": [
    "from pathlib import Path\n",
    "p = Path(\"sample.txt\")\n",
    "print(p.exists())\n"
   ]
  },
  {
   "cell_type": "markdown",
   "id": "6dccebef-fa43-424e-9898-c292896b6919",
   "metadata": {},
   "source": [
    "### 11. File size"
   ]
  },
  {
   "cell_type": "code",
   "execution_count": 122,
   "id": "cfdfec62-e692-48eb-aaa7-9c97a9d2f066",
   "metadata": {},
   "outputs": [
    {
     "name": "stdout",
     "output_type": "stream",
     "text": [
      "306\n"
     ]
    }
   ],
   "source": [
    "from pathlib import Path\n",
    "p = Path(\"D:\\\\Desktop\\\\file handling\\\\13.Copy and Paste.py\")\n",
    "print(p.stat().st_size)"
   ]
  },
  {
   "cell_type": "markdown",
   "id": "820371a5-b4bb-42dc-8ee1-bd9aedb61155",
   "metadata": {},
   "source": [
    "### 12. Recursive file search (glob)"
   ]
  },
  {
   "cell_type": "code",
   "execution_count": 129,
   "id": "1247a41c-c835-4ad8-9ec4-b955526711e4",
   "metadata": {},
   "outputs": [
    {
     "name": "stdout",
     "output_type": "stream",
     "text": [
      "D:\\Desktop\\file handling\\d.txt\n"
     ]
    }
   ],
   "source": [
    "from pathlib import Path\n",
    "p = Path(\"D:\\\\Desktop\\\\file handling\")\n",
    "for f in p.rglob(\"*.txt\"):\n",
    "    print(f)"
   ]
  },
  {
   "cell_type": "code",
   "execution_count": null,
   "id": "ed59ef0e-caeb-4735-8a4c-c183e10dfaa4",
   "metadata": {},
   "outputs": [],
   "source": []
  }
 ],
 "metadata": {
  "kernelspec": {
   "display_name": "Python 3 (ipykernel)",
   "language": "python",
   "name": "python3"
  },
  "language_info": {
   "codemirror_mode": {
    "name": "ipython",
    "version": 3
   },
   "file_extension": ".py",
   "mimetype": "text/x-python",
   "name": "python",
   "nbconvert_exporter": "python",
   "pygments_lexer": "ipython3",
   "version": "3.12.7"
  }
 },
 "nbformat": 4,
 "nbformat_minor": 5
}
